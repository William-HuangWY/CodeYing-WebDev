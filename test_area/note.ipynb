{
 "cells": [
  {
   "cell_type": "markdown",
   "metadata": {},
   "source": [
    "> menuhover\n",
    "> - [ ] hover\n",
    "> - [ ] indicator\n",
    "> - [ ] (menubar-toggle-button)?\n",
    "> - [ ] `About`, `Work`, `Contact`\n",
    "\n",
    "> sidebar\n",
    "> - [O] darkmode default\n",
    "\n",
    "> section\n",
    "> - [ ] switcher\n",
    "> - [ ] Cards\n",
    "\n",
    "> hero\n",
    "> - [X] background blur\n",
    "> - [ ] bulletin\n",
    "> - [O] text input props\n",
    "> - [O] model: camera follow/rotation\n",
    "> - [O] model: stop、 restart rendering、lock button\n",
    "> - [O] model: loading bar\n",
    "> - [ ] model: optimization (on&off seen or not)\n",
    "\n",
    "> footer\n",
    "> - [ ] `TM、(C) Need License???`\n",
    "\n",
    "> Others\n",
    "> - [ ] toTop btn\n",
    "> - [ ] **JSON**、**Language**、**SEO**、**Domain Email**\n",
    "\n",
    "#### Note: **Change `srcPath` & `Domain`**"
   ]
  }
 ],
 "metadata": {
  "language_info": {
   "name": "python"
  }
 },
 "nbformat": 4,
 "nbformat_minor": 2
}
