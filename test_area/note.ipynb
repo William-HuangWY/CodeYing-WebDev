{
 "cells": [
  {
   "cell_type": "markdown",
   "metadata": {},
   "source": [
    "> menuhover\n",
    "> - hover\n",
    "> - indicator\n",
    "> - (menubar-toggle-button)?\n",
    "> - `About`, `Work`, `Contact`\n",
    "\n",
    "> sidebar\n",
    "> - darkmode default (O)\n",
    "\n",
    "> section\n",
    "> - switcher\n",
    "\n",
    "> hero\n",
    "> - background blur (X)\n",
    "> - bulletin\n",
    "> - text input props\n",
    "> - model: camera follow/rotation\n",
    "> - model: stop、 restart rendering button\n",
    "> - model: loading bar!!!\n",
    "> - model: optimization (on&off seen or not)\n",
    "\n",
    "> footer ()\n",
    "> - `TM、(C) Need License???`\n",
    "\n",
    "> toTop btn\n",
    "\n",
    "> **JSON**、**SEO**、**Domain Email**\n",
    "\n",
    "#### Note: **Change `srcPath` & `Domain`**"
   ]
  }
 ],
 "metadata": {
  "language_info": {
   "name": "python"
  }
 },
 "nbformat": 4,
 "nbformat_minor": 2
}
