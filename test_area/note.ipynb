{
 "cells": [
  {
   "cell_type": "markdown",
   "metadata": {},
   "source": [
    "> menuhover\n",
    "> - [ ] hover\n",
    "> - [ ] indicator\n",
    "> - [ ] (menubar-toggle-button)?\n",
    "> - [ ] `About`, `Work`, `Contact`\n",
    "\n",
    "> sidebar\n",
    "> - [O] darkmode default\n",
    "\n",
    "> section\n",
    "> - [ ] switcher\n",
    "> - [ ] typing effect\n",
    "> - [O] Cards (tilt)\n",
    "> - [ ] Swip Card (like dating software)\n",
    "> - [O] geometry light\n",
    "> - [ ] terminal\n",
    "\n",
    "> hero\n",
    "> - [O] small about link\n",
    "> - [X] background blur\n",
    "> - [X] bulletin\n",
    "> - [O] text input props\n",
    "> - [O] About Content\n",
    "> - [O] model: camera follow/rotation\n",
    "> - [O] model: stop、 restart rendering、lock button\n",
    "> - [O] model: loading bar\n",
    "> - [ ] model: optimization (on&off seen or not)\n",
    "\n",
    "> skills\n",
    "\n",
    "> testimonials\n",
    "\n",
    "> footer\n",
    "> - [ ] `TM、(C) Need License???`\n",
    "\n",
    "> Others\n",
    "> - [ ] pop up msg\n",
    "> - [ ] toTop btn\n",
    "> - [ ] **JSON**、**Language**、**SEO**、**Domain Email**\n",
    "\n",
    "#### Note: **Change `srcPath` & `Domain`**"
   ]
  }
 ],
 "metadata": {
  "kernelspec": {
   "display_name": "Python 3",
   "language": "python",
   "name": "python3"
  },
  "language_info": {
   "codemirror_mode": {
    "name": "ipython",
    "version": 3
   },
   "file_extension": ".py",
   "mimetype": "text/x-python",
   "name": "python",
   "nbconvert_exporter": "python",
   "pygments_lexer": "ipython3",
   "version": "3.12.2"
  }
 },
 "nbformat": 4,
 "nbformat_minor": 2
}
